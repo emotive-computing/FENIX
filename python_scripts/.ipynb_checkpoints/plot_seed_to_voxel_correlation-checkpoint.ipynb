{
 "cells": [
  {
   "cell_type": "code",
   "execution_count": 1,
   "metadata": {},
   "outputs": [],
   "source": [
    "%matplotlib inline"
   ]
  },
  {
   "cell_type": "markdown",
   "metadata": {},
   "source": [
    "\n",
    "# Producing single subject maps of seed-to-voxel correlation\n",
    "\n",
    "This example shows how to produce seed-to-voxel correlation maps for a single\n",
    "subject based on movie-watching fMRI scans.\n",
    "These maps depict the temporal correlation of a **seed region** with the\n",
    "**rest of the brain**.\n",
    "\n",
    "This example is an advanced one that requires manipulating the data with numpy.\n",
    "Note the difference between images, that lie in brain space, and the\n",
    "numpy array, corresponding to the data inside the mask.\n",
    "\n",
    "See also `for a similar example using cortical surface input data\n",
    "<sphx_glr_auto_examples_01_plotting_plot_surf_stat_map.py>`.\n"
   ]
  },
  {
   "cell_type": "code",
   "execution_count": null,
   "metadata": {},
   "outputs": [],
   "source": [
    "# author: Franz Liem"
   ]
  },
  {
   "cell_type": "markdown",
   "metadata": {},
   "source": [
    "## Getting the data\n",
    "\n"
   ]
  },
  {
   "cell_type": "code",
   "execution_count": 2,
   "metadata": {},
   "outputs": [
    {
     "name": "stdout",
     "output_type": "stream",
     "text": [
      "\n",
      "Dataset created in /Users/marta/nilearn_data/development_fmri\n",
      "\n",
      "\n",
      "Dataset created in /Users/marta/nilearn_data/development_fmri/development_fmri\n",
      "\n",
      "Downloading data from https://osf.io/yr3av/download ...\n"
     ]
    },
    {
     "name": "stderr",
     "output_type": "stream",
     "text": [
      " ...done. (2 seconds, 0 min)\n"
     ]
    },
    {
     "name": "stdout",
     "output_type": "stream",
     "text": [
      "Downloading data from https://osf.io/download/5c8ff3df4712b400183b7092/ ...\n"
     ]
    },
    {
     "name": "stderr",
     "output_type": "stream",
     "text": [
      " ...done. (2 seconds, 0 min)\n"
     ]
    },
    {
     "name": "stdout",
     "output_type": "stream",
     "text": [
      "Downloading data from https://osf.io/download/5c8ff3e04712b400193b5bdf/ ...\n"
     ]
    },
    {
     "name": "stderr",
     "output_type": "stream",
     "text": [
      " ...done. (3 seconds, 0 min)\n"
     ]
    }
   ],
   "source": [
    "# We will work with the first subject of the brain development fmri data set.\n",
    "# dataset.func is a list of filenames. We select the 1st (0-based)\n",
    "# subject by indexing with [0]).\n",
    "from nilearn import datasets\n",
    "\n",
    "dataset = datasets.fetch_development_fmri(n_subjects=1)\n",
    "func_filename = dataset.func[0]\n",
    "confound_filename = dataset.confounds[0]"
   ]
  },
  {
   "cell_type": "markdown",
   "metadata": {},
   "source": [
    "Note that func_filename and confound_filename are strings pointing to\n",
    "files on your hard drive.\n",
    "\n"
   ]
  },
  {
   "cell_type": "code",
   "execution_count": 3,
   "metadata": {},
   "outputs": [
    {
     "name": "stdout",
     "output_type": "stream",
     "text": [
      "/Users/marta/nilearn_data/development_fmri/development_fmri/sub-pixar123_task-pixar_space-MNI152NLin2009cAsym_desc-preproc_bold.nii.gz\n",
      "/Users/marta/nilearn_data/development_fmri/development_fmri/sub-pixar123_task-pixar_desc-reducedConfounds_regressors.tsv\n"
     ]
    }
   ],
   "source": [
    "print(func_filename)\n",
    "print(confound_filename)"
   ]
  },
  {
   "cell_type": "markdown",
   "metadata": {},
   "source": [
    "## Time series extraction\n",
    "\n",
    "We are going to extract signals from the functional time series in two\n",
    "steps. First we will extract the mean signal within the **seed region of\n",
    "interest**. Second, we will extract the **brain-wide voxel-wise time series**.\n",
    "\n",
    "We will be working with one seed sphere in the Posterior Cingulate Cortex\n",
    "(PCC), considered part of the Default Mode Network.\n",
    "\n"
   ]
  },
  {
   "cell_type": "code",
   "execution_count": 4,
   "metadata": {},
   "outputs": [],
   "source": [
    "pcc_coords = [(0, -52, 18)]"
   ]
  },
  {
   "cell_type": "markdown",
   "metadata": {},
   "source": [
    "We use :class:`nilearn.input_data.NiftiSpheresMasker` to extract the\n",
    "**time series from the functional imaging within the sphere**. The\n",
    "sphere is centered at pcc_coords and will have the radius we pass the\n",
    "NiftiSpheresMasker function (here 8 mm).\n",
    "\n",
    "The extraction will also detrend, standardize, and bandpass filter the data.\n",
    "This will create a NiftiSpheresMasker object.\n",
    "\n"
   ]
  },
  {
   "cell_type": "code",
   "execution_count": 5,
   "metadata": {},
   "outputs": [
    {
     "name": "stderr",
     "output_type": "stream",
     "text": [
      "/usr/local/lib/python3.9/site-packages/nilearn/input_data/__init__.py:27: FutureWarning: The import path 'nilearn.input_data' is deprecated in version 0.9. Importing from 'nilearn.input_data' will be possible at least until release 0.13.0. Please import from 'nilearn.maskers' instead.\n",
      "  warnings.warn(message, FutureWarning)\n"
     ]
    }
   ],
   "source": [
    "from nilearn import input_data\n",
    "\n",
    "seed_masker = input_data.NiftiSpheresMasker(\n",
    "    pcc_coords, radius=8,\n",
    "    detrend=True, standardize=True,\n",
    "    low_pass=0.1, high_pass=0.01, t_r=2,\n",
    "    memory='nilearn_cache', memory_level=1, verbose=0)"
   ]
  },
  {
   "cell_type": "markdown",
   "metadata": {},
   "source": [
    "Then we extract the mean time series within the seed region while\n",
    "regressing out the confounds that\n",
    "can be found in the dataset's csv file\n",
    "\n"
   ]
  },
  {
   "cell_type": "code",
   "execution_count": 6,
   "metadata": {},
   "outputs": [],
   "source": [
    "seed_time_series = seed_masker.fit_transform(func_filename,\n",
    "                                             confounds=[confound_filename])"
   ]
  },
  {
   "cell_type": "markdown",
   "metadata": {},
   "source": [
    "Next, we can proceed similarly for the **brain-wide voxel-wise time\n",
    "series**, using :class:`nilearn.input_data.NiftiMasker` with the same input\n",
    "arguments as in the seed_masker in addition to smoothing with a 6 mm kernel\n",
    "\n"
   ]
  },
  {
   "cell_type": "code",
   "execution_count": 7,
   "metadata": {},
   "outputs": [],
   "source": [
    "brain_masker = input_data.NiftiMasker(\n",
    "    smoothing_fwhm=6,\n",
    "    detrend=True, standardize=True,\n",
    "    low_pass=0.1, high_pass=0.01, t_r=2,\n",
    "    memory='nilearn_cache', memory_level=1, verbose=0)"
   ]
  },
  {
   "cell_type": "markdown",
   "metadata": {},
   "source": [
    "Then we extract the brain-wide voxel-wise time series while regressing\n",
    "out the confounds as before\n",
    "\n"
   ]
  },
  {
   "cell_type": "code",
   "execution_count": 8,
   "metadata": {},
   "outputs": [],
   "source": [
    "brain_time_series = brain_masker.fit_transform(func_filename,\n",
    "                                               confounds=[confound_filename])"
   ]
  },
  {
   "cell_type": "markdown",
   "metadata": {},
   "source": [
    "We can now inspect the extracted time series. Note that the **seed time\n",
    "series** is an array with shape n_volumes, 1), while the\n",
    "**brain time series** is an array with shape (n_volumes, n_voxels).\n",
    "\n"
   ]
  },
  {
   "cell_type": "code",
   "execution_count": 9,
   "metadata": {},
   "outputs": [
    {
     "name": "stdout",
     "output_type": "stream",
     "text": [
      "Seed time series shape: (168, 1)\n",
      "Brain time series shape: (168, 32504)\n"
     ]
    }
   ],
   "source": [
    "print(\"Seed time series shape: (%s, %s)\" % seed_time_series.shape)\n",
    "print(\"Brain time series shape: (%s, %s)\" % brain_time_series.shape)"
   ]
  },
  {
   "cell_type": "markdown",
   "metadata": {},
   "source": [
    "We can plot the **seed time series**.\n",
    "\n"
   ]
  },
  {
   "cell_type": "code",
   "execution_count": 10,
   "metadata": {},
   "outputs": [
    {
     "data": {
      "image/png": "[encoded data removed]",
      "text/plain": [
       "<Figure size 432x288 with 1 Axes>"
      ]
     },
     "metadata": {
      "needs_background": "light"
     },
     "output_type": "display_data"
    }
   ],
   "source": [
    "import matplotlib.pyplot as plt\n",
    "\n",
    "plt.plot(seed_time_series)\n",
    "plt.title('Seed time series (Posterior cingulate cortex)')\n",
    "plt.xlabel('Scan number')\n",
    "plt.ylabel('Normalized signal')\n",
    "plt.tight_layout()"
   ]
  },
  {
   "cell_type": "markdown",
   "metadata": {},
   "source": [
    "Exemplarily, we can also select 5 random voxels from the **brain-wide\n",
    "data** and plot the time series from.\n",
    "\n"
   ]
  },
  {
   "cell_type": "code",
   "execution_count": null,
   "metadata": {},
   "outputs": [],
   "source": [
    "plt.plot(brain_time_series[:, [10, 45, 100, 5000, 10000]])\n",
    "plt.title('Time series from 5 random voxels')\n",
    "plt.xlabel('Scan number')\n",
    "plt.ylabel('Normalized signal')\n",
    "plt.tight_layout()"
   ]
  },
  {
   "cell_type": "markdown",
   "metadata": {},
   "source": [
    "## Performing the seed-to-voxel correlation analysis\n",
    "\n",
    "Now that we have two arrays (**sphere signal**: (n_volumes, 1),\n",
    "**brain-wide voxel-wise signal** (n_volumes, n_voxels)), we can correlate\n",
    "the **seed signal** with the **signal of each voxel**. The dot product of\n",
    "the two arrays will give us this correlation. Note that the signals have\n",
    "been variance-standardized during extraction. To have them standardized to\n",
    "norm unit, we further have to divide the result by the length of the time\n",
    "series.\n",
    "\n"
   ]
  },
  {
   "cell_type": "code",
   "execution_count": null,
   "metadata": {},
   "outputs": [],
   "source": [
    "import numpy as np\n",
    "\n",
    "seed_to_voxel_correlations = (np.dot(brain_time_series.T, seed_time_series) /\n",
    "                              seed_time_series.shape[0]\n",
    "                              )"
   ]
  },
  {
   "cell_type": "markdown",
   "metadata": {},
   "source": [
    "The resulting array will contain a value representing the correlation\n",
    "values between the signal in the **seed region** of interest and **each\n",
    "voxel's signal**, and will be of shape (n_voxels, 1). The correlation\n",
    "values can potentially range between -1 and 1.\n",
    "\n"
   ]
  },
  {
   "cell_type": "code",
   "execution_count": null,
   "metadata": {},
   "outputs": [],
   "source": [
    "print(\"Seed-to-voxel correlation shape: (%s, %s)\" %\n",
    "      seed_to_voxel_correlations.shape)\n",
    "print(\"Seed-to-voxel correlation: min = %.3f; max = %.3f\" % (\n",
    "    seed_to_voxel_correlations.min(), seed_to_voxel_correlations.max()))"
   ]
  },
  {
   "cell_type": "markdown",
   "metadata": {},
   "source": [
    "## Plotting the seed-to-voxel correlation map\n",
    "We can now plot the seed-to-voxel correlation map and perform thresholding\n",
    "to only show values more extreme than +/- 0.5. Before displaying,\n",
    "we need to create an in memory Nifti image object.\n",
    "Furthermore, we can display the location of the seed with a sphere and\n",
    "set the cross to the center of the seed region of interest.\n",
    "\n"
   ]
  },
  {
   "cell_type": "code",
   "execution_count": null,
   "metadata": {},
   "outputs": [],
   "source": [
    "from nilearn import plotting\n",
    "\n",
    "seed_to_voxel_correlations_img = brain_masker.inverse_transform(\n",
    "    seed_to_voxel_correlations.T)\n",
    "display = plotting.plot_stat_map(seed_to_voxel_correlations_img,\n",
    "                                 threshold=0.5, vmax=1,\n",
    "                                 cut_coords=pcc_coords[0],\n",
    "                                 title=\"Seed-to-voxel correlation (PCC seed)\"\n",
    "                                 )\n",
    "display.add_markers(marker_coords=pcc_coords, marker_color='g',\n",
    "                    marker_size=300)\n",
    "# At last, we save the plot as pdf.\n",
    "display.savefig('pcc_seed_correlation.pdf')"
   ]
  },
  {
   "cell_type": "markdown",
   "metadata": {},
   "source": [
    "## Fisher-z transformation and save nifti\n",
    "Finally, we can Fisher-z transform the data to achieve a normal distribution.\n",
    "The transformed array can now have values more extreme than +/- 1.\n",
    "\n"
   ]
  },
  {
   "cell_type": "code",
   "execution_count": null,
   "metadata": {},
   "outputs": [],
   "source": [
    "seed_to_voxel_correlations_fisher_z = np.arctanh(seed_to_voxel_correlations)\n",
    "print(\"Seed-to-voxel correlation Fisher-z transformed: min = %.3f; max = %.3f\"\n",
    "      % (seed_to_voxel_correlations_fisher_z.min(),\n",
    "         seed_to_voxel_correlations_fisher_z.max()\n",
    "         )\n",
    "      )\n",
    "\n",
    "# Finally, we can transform the correlation array back to a Nifti image\n",
    "# object, that we can save.\n",
    "seed_to_voxel_correlations_fisher_z_img = brain_masker.inverse_transform(\n",
    "    seed_to_voxel_correlations_fisher_z.T)\n",
    "seed_to_voxel_correlations_fisher_z_img.to_filename(\n",
    "    'pcc_seed_correlation_z.nii.gz')"
   ]
  }
 ],
 "metadata": {
  "kernelspec": {
   "display_name": "Python 3 (ipykernel)",
   "language": "python",
   "name": "python3"
  },
  "language_info": {
   "codemirror_mode": {
    "name": "ipython",
    "version": 3
   },
   "file_extension": ".py",
   "mimetype": "text/x-python",
   "name": "python",
   "nbconvert_exporter": "python",
   "pygments_lexer": "ipython3",
   "version": "3.9.10"
  }
 },
 "nbformat": 4,
 "nbformat_minor": 1
}
